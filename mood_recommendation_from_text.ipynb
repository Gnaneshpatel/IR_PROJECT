{
  "nbformat": 4,
  "nbformat_minor": 0,
  "metadata": {
    "colab": {
      "provenance": []
    },
    "kernelspec": {
      "name": "python3",
      "display_name": "Python 3"
    },
    "language_info": {
      "name": "python"
    }
  },
  "cells": [
    {
      "cell_type": "code",
      "execution_count": null,
      "metadata": {
        "colab": {
          "base_uri": "https://localhost:8080/"
        },
        "id": "FbEglKHOBYu_",
        "outputId": "babfed25-21ff-4ee1-903d-377d31292d8a"
      },
      "outputs": [
        {
          "output_type": "stream",
          "name": "stdout",
          "text": [
            "2.12.0\n"
          ]
        }
      ],
      "source": [
        "import tensorflow as tf \n",
        "print(tf.__version__)"
      ]
    },
    {
      "cell_type": "code",
      "source": [
        "import keras\n",
        "keras.__version__"
      ],
      "metadata": {
        "colab": {
          "base_uri": "https://localhost:8080/",
          "height": 36
        },
        "id": "ogO4YOtiBbJF",
        "outputId": "6c8b3453-51ac-4b68-a78a-42f7cc9b3a7b"
      },
      "execution_count": null,
      "outputs": [
        {
          "output_type": "execute_result",
          "data": {
            "text/plain": [
              "'2.12.0'"
            ],
            "application/vnd.google.colaboratory.intrinsic+json": {
              "type": "string"
            }
          },
          "metadata": {},
          "execution_count": 2
        }
      ]
    },
    {
      "cell_type": "code",
      "source": [
        "import pandas as pd\n",
        "from nltk.corpus import stopwords\n",
        "from nltk.stem.porter import PorterStemmer\n",
        "import re\n",
        "train=pd.read_table('train.txt', delimiter = ';', header=None, )\n",
        "val=pd.read_table('val.txt', delimiter = ';', header=None, )\n",
        "test=pd.read_table('test.txt', delimiter = ';', header=None, )\n",
        "\n",
        "data = pd.concat([train ,  val , test])\n",
        "data.columns = [\"text\", \"label\"]"
      ],
      "metadata": {
        "id": "9iX5pMMwBm9O"
      },
      "execution_count": null,
      "outputs": []
    },
    {
      "cell_type": "code",
      "source": [
        "data.shape"
      ],
      "metadata": {
        "colab": {
          "base_uri": "https://localhost:8080/"
        },
        "id": "xMj4RU6wCsvS",
        "outputId": "c169dc71-1fcc-4736-a939-c6fe4a115565"
      },
      "execution_count": null,
      "outputs": [
        {
          "output_type": "execute_result",
          "data": {
            "text/plain": [
              "(20000, 2)"
            ]
          },
          "metadata": {},
          "execution_count": 4
        }
      ]
    },
    {
      "cell_type": "code",
      "source": [
        "data.isna().any(axis=1).sum()"
      ],
      "metadata": {
        "colab": {
          "base_uri": "https://localhost:8080/"
        },
        "id": "RbCjGSrnC3Yt",
        "outputId": "be49b73b-9c19-4eae-dca1-2c4f5b36cdc9"
      },
      "execution_count": null,
      "outputs": [
        {
          "output_type": "execute_result",
          "data": {
            "text/plain": [
              "0"
            ]
          },
          "metadata": {},
          "execution_count": 5
        }
      ]
    },
    {
      "cell_type": "code",
      "source": [
        "#text preprocessing\n",
        "ps = PorterStemmer()\n",
        "\n",
        "def preprocess(line):\n",
        "    review = re.sub('[^a-zA-Z]', ' ', line) #leave only characters from a to z\n",
        "    review = review.lower() #lower the text\n",
        "    review = review.split() #turn string into list of words\n",
        "    #apply Stemming \n",
        "    review = [ps.stem(word) for word in review if not word in stopwords.words('english')] #delete stop words like I, and ,OR   review = ' '.join(review)\n",
        "    #trun list into sentences\n",
        "    return \" \".join(review)"
      ],
      "metadata": {
        "id": "HJAtlH9XC58I"
      },
      "execution_count": null,
      "outputs": []
    },
    {
      "cell_type": "code",
      "source": [
        "import nltk\n",
        "nltk.download('stopwords')"
      ],
      "metadata": {
        "colab": {
          "base_uri": "https://localhost:8080/"
        },
        "id": "Vc4onMvQDDVi",
        "outputId": "57853472-3350-4591-9cde-59d909223603"
      },
      "execution_count": null,
      "outputs": [
        {
          "output_type": "stream",
          "name": "stderr",
          "text": [
            "[nltk_data] Downloading package stopwords to /root/nltk_data...\n",
            "[nltk_data]   Unzipping corpora/stopwords.zip.\n"
          ]
        },
        {
          "output_type": "execute_result",
          "data": {
            "text/plain": [
              "True"
            ]
          },
          "metadata": {},
          "execution_count": 7
        }
      ]
    },
    {
      "cell_type": "code",
      "source": [
        "data['text']=data['text'].apply(lambda x: preprocess(x))"
      ],
      "metadata": {
        "id": "ZeAymOfHC7-b"
      },
      "execution_count": null,
      "outputs": []
    },
    {
      "cell_type": "code",
      "source": [
        "from sklearn import preprocessing\n",
        "\n",
        "label_encoder = preprocessing.LabelEncoder()\n",
        "data['N_label'] = label_encoder.fit_transform(data['label'])"
      ],
      "metadata": {
        "id": "onCyKm92C-D9"
      },
      "execution_count": null,
      "outputs": []
    },
    {
      "cell_type": "code",
      "source": [
        "data['text']"
      ],
      "metadata": {
        "colab": {
          "base_uri": "https://localhost:8080/"
        },
        "id": "d5uUAuReDPLn",
        "outputId": "7f0e2ee4-38e0-4d04-bd3d-043e59286545"
      },
      "execution_count": null,
      "outputs": [
        {
          "output_type": "execute_result",
          "data": {
            "text/plain": [
              "0                                       didnt feel humili\n",
              "1       go feel hopeless damn hope around someon care ...\n",
              "2                    im grab minut post feel greedi wrong\n",
              "3          ever feel nostalg fireplac know still properti\n",
              "4                                            feel grouchi\n",
              "                              ...                        \n",
              "1995    keep feel like someon unkind wrong think get b...\n",
              "1996              im feel littl cranki neg doctor appoint\n",
              "1997                feel use peopl give great feel achiev\n",
              "1998    im feel comfort derbi feel though start step s...\n",
              "1999    feel weird meet w peopl text like dont talk fa...\n",
              "Name: text, Length: 20000, dtype: object"
            ]
          },
          "metadata": {},
          "execution_count": 10
        }
      ]
    },
    {
      "cell_type": "code",
      "source": [
        "# Creating the Bag of Words model by applying Countvectorizer -convert textual data to numerical data\n",
        "\n",
        "\n",
        "from sklearn.feature_extraction.text import CountVectorizer\n",
        "\n",
        "cv = CountVectorizer(max_features=5000,ngram_range=(1,3))#example: the course was long-> [the,the course,the course was,course, course was, course was long,...]\n",
        "\n",
        "data_cv = cv.fit_transform(data['text']).toarray()"
      ],
      "metadata": {
        "id": "D8noCk68DRy6"
      },
      "execution_count": null,
      "outputs": []
    },
    {
      "cell_type": "code",
      "source": [
        "data_cv"
      ],
      "metadata": {
        "colab": {
          "base_uri": "https://localhost:8080/"
        },
        "id": "xB835Q7rDUcY",
        "outputId": "f2b7119b-862b-4de7-befc-72baec216c58"
      },
      "execution_count": null,
      "outputs": [
        {
          "output_type": "execute_result",
          "data": {
            "text/plain": [
              "array([[0, 0, 0, ..., 0, 0, 0],\n",
              "       [0, 0, 0, ..., 0, 0, 0],\n",
              "       [0, 0, 0, ..., 0, 0, 0],\n",
              "       ...,\n",
              "       [0, 0, 0, ..., 0, 0, 0],\n",
              "       [0, 0, 0, ..., 0, 0, 0],\n",
              "       [0, 0, 0, ..., 0, 0, 0]])"
            ]
          },
          "metadata": {},
          "execution_count": 12
        }
      ]
    },
    {
      "cell_type": "code",
      "source": [
        "from sklearn.model_selection import train_test_split"
      ],
      "metadata": {
        "id": "ruE7PM8wDb7w"
      },
      "execution_count": null,
      "outputs": []
    },
    {
      "cell_type": "code",
      "source": [
        "X_train, X_test, y_train, y_test =train_test_split(data_cv, data['N_label'], test_size=0.25, random_state=42)"
      ],
      "metadata": {
        "id": "57u5_ZyjDWt2"
      },
      "execution_count": null,
      "outputs": []
    },
    {
      "cell_type": "code",
      "source": [
        "# first neural network with keras tutorial\n",
        "from tensorflow.keras.models import Sequential\n",
        "from tensorflow.keras.layers import Dense\n",
        "# load the dataset\n",
        "# split into input (X) and output (y) variables\n",
        "# define the keras model\n",
        "model = Sequential()\n",
        "model.add(Dense(12, input_shape=(X_train.shape[1],), activation='relu'))\n",
        "model.add(Dense(8, activation='relu'))\n",
        "model.add(Dense(6, activation='softmax'))\n",
        "# compile the keras model\n",
        "model.compile(loss='sparse_categorical_crossentropy', optimizer='adam', metrics=['accuracy'])\n",
        "# fit the keras model on the dataset\n",
        "model.fit(X_train, y_train, epochs=10, batch_size=10)\n",
        "# evaluate the keras model\n",
        "_, accuracy = model.evaluate(X_train, y_train)\n",
        "print('Accuracy: %.2f' % (accuracy*100))"
      ],
      "metadata": {
        "colab": {
          "base_uri": "https://localhost:8080/"
        },
        "id": "qL-uNtW3DYzu",
        "outputId": "b2c0e1d9-e521-4c64-cc8c-a118386ad8c1"
      },
      "execution_count": null,
      "outputs": [
        {
          "output_type": "stream",
          "name": "stdout",
          "text": [
            "Epoch 1/10\n",
            "1500/1500 [==============================] - 7s 4ms/step - loss: 1.0007 - accuracy: 0.6417\n",
            "Epoch 2/10\n",
            "1500/1500 [==============================] - 4s 3ms/step - loss: 0.3057 - accuracy: 0.9017\n",
            "Epoch 3/10\n",
            "1500/1500 [==============================] - 4s 3ms/step - loss: 0.1703 - accuracy: 0.9441\n",
            "Epoch 4/10\n",
            "1500/1500 [==============================] - 5s 4ms/step - loss: 0.1132 - accuracy: 0.9623\n",
            "Epoch 5/10\n",
            "1500/1500 [==============================] - 4s 3ms/step - loss: 0.0787 - accuracy: 0.9753\n",
            "Epoch 6/10\n",
            "1500/1500 [==============================] - 5s 3ms/step - loss: 0.0571 - accuracy: 0.9830\n",
            "Epoch 7/10\n",
            "1500/1500 [==============================] - 7s 4ms/step - loss: 0.0404 - accuracy: 0.9878\n",
            "Epoch 8/10\n",
            "1500/1500 [==============================] - 4s 3ms/step - loss: 0.0317 - accuracy: 0.9899\n",
            "Epoch 9/10\n",
            "1500/1500 [==============================] - 6s 4ms/step - loss: 0.0263 - accuracy: 0.9917\n",
            "Epoch 10/10\n",
            "1500/1500 [==============================] - 4s 3ms/step - loss: 0.0207 - accuracy: 0.9940\n",
            "469/469 [==============================] - 2s 3ms/step - loss: 0.0129 - accuracy: 0.9957\n",
            "Accuracy: 99.57\n"
          ]
        }
      ]
    },
    {
      "cell_type": "code",
      "source": [
        "_, accuracy = model.evaluate(X_test, y_test)\n",
        "print('Accuracy: %.2f' % (accuracy*100))"
      ],
      "metadata": {
        "colab": {
          "base_uri": "https://localhost:8080/"
        },
        "id": "Ih9Uo6JcDvdi",
        "outputId": "70e99e21-8e45-4ebe-8fe9-84f7f9fe1ab2"
      },
      "execution_count": null,
      "outputs": [
        {
          "output_type": "stream",
          "name": "stdout",
          "text": [
            "157/157 [==============================] - 0s 3ms/step - loss: 0.8289 - accuracy: 0.8476\n",
            "Accuracy: 84.76\n"
          ]
        }
      ]
    },
    {
      "cell_type": "code",
      "source": [
        "import seaborn as sns\n",
        "import matplotlib.pyplot as plt\n",
        "from sklearn.metrics import confusion_matrix\n",
        "\n",
        "y_pred = np.argmax(model.predict(X_test), axis=-1)\n",
        "# Generate confusion matrix\n",
        "cm = confusion_matrix(y_test, y_pred)\n",
        "\n",
        "# Define color map\n",
        "cmap = sns.cubehelix_palette(as_cmap=True)\n",
        "\n",
        "# Plot confusion matrix\n",
        "sns.heatmap(cm, annot=True, fmt=\"d\", cmap=cmap)\n",
        "\n",
        "# Add labels and title\n",
        "plt.xlabel(\"Predicted label\")\n",
        "plt.ylabel(\"True label\")\n",
        "plt.title(\"Confusion Matrix\")\n"
      ],
      "metadata": {
        "colab": {
          "base_uri": "https://localhost:8080/",
          "height": 507
        },
        "id": "5UOim52Ry8xO",
        "outputId": "ee43e8f3-34c5-4a9c-c282-d9ff412fd074"
      },
      "execution_count": null,
      "outputs": [
        {
          "output_type": "stream",
          "name": "stdout",
          "text": [
            "157/157 [==============================] - 1s 5ms/step\n"
          ]
        },
        {
          "output_type": "execute_result",
          "data": {
            "text/plain": [
              "Text(0.5, 1.0, 'Confusion Matrix')"
            ]
          },
          "metadata": {},
          "execution_count": 24
        },
        {
          "output_type": "display_data",
          "data": {
            "text/plain": [
              "<Figure size 640x480 with 2 Axes>"
            ],
            "image/png": "[encoded data removed]"
          },
          "metadata": {}
        }
      ]
    },
    {
      "cell_type": "code",
      "source": [
        "import numpy as np\n"
      ],
      "metadata": {
        "id": "_tT9lLg8D9h0"
      },
      "execution_count": null,
      "outputs": []
    },
    {
      "cell_type": "code",
      "source": [],
      "metadata": {
        "id": "OSa-SJJPVVWw"
      },
      "execution_count": null,
      "outputs": []
    },
    {
      "cell_type": "code",
      "source": [
        "text='I feel sad'\n",
        "text=preprocess(text)\n",
        "array = cv.transform([text]).toarray()\n",
        "pred = model.predict(array)\n",
        "a=np.argmax(pred, axis=1)\n",
        "label_encoder.inverse_transform(a)[0]"
      ],
      "metadata": {
        "colab": {
          "base_uri": "https://localhost:8080/",
          "height": 53
        },
        "id": "TQvwxEAdDyrT",
        "outputId": "bbb7e69d-5dfb-4e5e-ca18-fd6d9af1256b"
      },
      "execution_count": null,
      "outputs": [
        {
          "output_type": "stream",
          "name": "stdout",
          "text": [
            "1/1 [==============================] - 0s 23ms/step\n"
          ]
        },
        {
          "output_type": "execute_result",
          "data": {
            "text/plain": [
              "'sadness'"
            ],
            "application/vnd.google.colaboratory.intrinsic+json": {
              "type": "string"
            }
          },
          "metadata": {},
          "execution_count": 19
        }
      ]
    },
    {
      "cell_type": "code",
      "source": [
        "tf.keras.models.save_model(model,'my_model.h5')"
      ],
      "metadata": {
        "id": "ErVkjxmFD0yV"
      },
      "execution_count": null,
      "outputs": []
    },
    {
      "cell_type": "code",
      "source": [
        "import pickle\n",
        "pickle.dump(label_encoder, open('encoder.pkl', 'wb'))\n",
        "pickle.dump(cv, open('CountVectorizer.pkl', 'wb'))"
      ],
      "metadata": {
        "id": "mHWIdFs5D2-l"
      },
      "execution_count": null,
      "outputs": []
    },
    {
      "cell_type": "code",
      "source": [
        "#text preprocessing\n",
        "from nltk.corpus import stopwords\n",
        "from nltk.stem.porter import PorterStemmer\n",
        "import re\n",
        "def preprocess(line):\n",
        "    ps = PorterStemmer()\n",
        "\n",
        "    review = re.sub('[^a-zA-Z]', ' ', line) #leave only characters from a to z\n",
        "    review = review.lower() #lower the text\n",
        "    review = review.split() #turn string into list of words\n",
        "    #apply Stemming \n",
        "    review = [ps.stem(word) for word in review if not word in stopwords.words('english')] #delete stop words like I, and ,OR   review = ' '.join(review)\n",
        "    #trun list into sentences\n",
        "    return \" \".join(review)"
      ],
      "metadata": {
        "id": "r4zpxqF0FH8s"
      },
      "execution_count": null,
      "outputs": []
    },
    {
      "cell_type": "code",
      "source": [],
      "metadata": {
        "id": "woEali0EEdyT"
      },
      "execution_count": null,
      "outputs": []
    }
  ]
}